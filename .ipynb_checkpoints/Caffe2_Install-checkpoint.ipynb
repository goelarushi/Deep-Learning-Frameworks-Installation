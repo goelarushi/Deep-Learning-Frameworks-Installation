{
 "cells": [
  {
   "cell_type": "markdown",
   "metadata": {},
   "source": [
    "# CAFFE2 Installation Instructions"
   ]
  },
  {
   "cell_type": "markdown",
   "metadata": {},
   "source": [
    "## System Requirements"
   ]
  },
  {
   "cell_type": "code",
   "execution_count": null,
   "metadata": {},
   "outputs": [],
   "source": [
    "Ubuntu 16.04\n",
    "Python 2.7\n",
    "CUDA 9.1\n",
    "CuDNN 7.1"
   ]
  },
  {
   "cell_type": "markdown",
   "metadata": {},
   "source": [
    "## Installation Steps"
   ]
  },
  {
   "cell_type": "code",
   "execution_count": null,
   "metadata": {},
   "outputs": [],
   "source": [
    "sudo apt-get update\n",
    "sudo apt-get install -y --no-install-recommends \\\n",
    "      build-essential \\\n",
    "      cmake \\\n",
    "      git \\\n",
    "      libgoogle-glog-dev \\\n",
    "      libgtest-dev \\\n",
    "      libiomp-dev \\\n",
    "      libleveldb-dev \\\n",
    "      liblmdb-dev \\\n",
    "      libopencv-dev \\\n",
    "      libopenmpi-dev \\\n",
    "      libsnappy-dev \\\n",
    "      libprotobuf-dev \\\n",
    "      openmpi-bin \\\n",
    "      openmpi-doc \\\n",
    "      protobuf-compiler \\\n",
    "      python-dev \\\n",
    "      python-pip         "
   ]
  },
  {
   "cell_type": "code",
   "execution_count": null,
   "metadata": {},
   "outputs": [],
   "source": [
    "sudo pip install \\\n",
    "      future \\\n",
    "      numpy \\\n",
    "      protobuf"
   ]
  },
  {
   "cell_type": "code",
   "execution_count": null,
   "metadata": {},
   "outputs": [],
   "source": [
    "sudo apt-get install -y --no-install-recommends libgflags-dev\n"
   ]
  },
  {
   "cell_type": "markdown",
   "metadata": {},
   "source": [
    "Check the Installation Instructions for CUDA-9.1 and CuDNN-7.1 before the next steps."
   ]
  },
  {
   "cell_type": "code",
   "execution_count": null,
   "metadata": {},
   "outputs": [],
   "source": [
    "git clone --recursive https://github.com/caffe2/caffe2.git\n",
    "mkdir build\n",
    "cd build\n",
    "\n",
    "cmake ..\n",
    "\n",
    "sudo make install"
   ]
  },
  {
   "cell_type": "markdown",
   "metadata": {},
   "source": [
    "# Debugging Instructions"
   ]
  },
  {
   "cell_type": "markdown",
   "metadata": {},
   "source": [
    "### 1. While running cmake .. , you get a CUDA find error : "
   ]
  },
  {
   "cell_type": "code",
   "execution_count": null,
   "metadata": {},
   "outputs": [],
   "source": [
    "cd /usr/local\n",
    "ls -l | grep cuda\n",
    "\n",
    "You should see something like:\n",
    "\n",
    "lrwxrwxrwx  1 root root     9  9  4 10:08 cuda -> cuda-7.5/\n",
    "drwxr-xr-x 13 root root  4096  1  5  2017 cuda-7.5\n",
    "drwxr-xr-x 14 root root  4096  7 27 17:24 cuda-8.0\n",
    "\n",
    "then:\n",
    "\n",
    "sudo rm -rf cuda\n",
    "ln -s /usr/local/cuda-9.1 cuda\n",
    "\n",
    "This creates a symbolic link to CUDA-9.1"
   ]
  },
  {
   "cell_type": "markdown",
   "metadata": {},
   "source": [
    "### 2. Error while executing \"sudo make install\" \n",
    "\n",
    "Error: token \"\"__CUDACC_VER__ is no longer supported.  Use __CUDACC_VER_MAJOR__, __CUDACC_VER_MINOR__, and __CUDACC_VER_BUILD__ instead.\"\" is not valid in preprocessor expressions"
   ]
  },
  {
   "cell_type": "code",
   "execution_count": null,
   "metadata": {},
   "outputs": [],
   "source": [
    "Try reinstalling eigen3 : \n",
    "\n",
    "wget https://bitbucket.org/eigen/eigen/get/6913f0cf7d06.zip\n",
    "unzip 6913f0cf7d06.zip\n",
    "sudo mv eigen3 /usr/include/\n",
    "\n",
    "Sometimes the error also arises due to different GPU architecture (sm -35, sm -52) mentioned in the Makefile. Change the architecture according to your platform.\n"
   ]
  },
  {
   "cell_type": "markdown",
   "metadata": {},
   "source": [
    "### 3. Error while importing Caffe2 in Python\n",
    "\n",
    "Error: libcaffe2.so: cannot open shared object file: No such file or directory"
   ]
  },
  {
   "cell_type": "code",
   "execution_count": null,
   "metadata": {},
   "outputs": [],
   "source": [
    "cd /usr/local/lib\n",
    "sudo ldconfig"
   ]
  },
  {
   "cell_type": "markdown",
   "metadata": {},
   "source": [
    "### 4. If you get the following error while running a Caffe2 support code repository :\n",
    "\n",
    "WARNING:root:This caffe2 python run does not have GPU support. Will run in CPU only mode.\n",
    "WARNING:root:Debug message: libnvrtc.so.8.0: cannot open shared object file: No such file or directory\n",
    "CRITICAL:root:Cannot load caffe2.python. Error: libcudart.so.8.0: cannot open shared object file: No such file or directory\n"
   ]
  },
  {
   "cell_type": "code",
   "execution_count": null,
   "metadata": {},
   "outputs": [],
   "source": [
    "This could happen if you have multiple CUDA versions installed on your server/system. \n",
    "Change the CUDAHOME and LD_LIBRARY_PATH in bashrc file to cuda-8.0.\n",
    "\n",
    "(Check the CUDA installation instructions for setting the PATH variables in the bashrc file.)"
   ]
  }
 ],
 "metadata": {
  "kernelspec": {
   "display_name": "Python 2",
   "language": "python",
   "name": "python2"
  },
  "language_info": {
   "codemirror_mode": {
    "name": "ipython",
    "version": 2
   },
   "file_extension": ".py",
   "mimetype": "text/x-python",
   "name": "python",
   "nbconvert_exporter": "python",
   "pygments_lexer": "ipython2",
   "version": "2.7.12"
  }
 },
 "nbformat": 4,
 "nbformat_minor": 2
}
