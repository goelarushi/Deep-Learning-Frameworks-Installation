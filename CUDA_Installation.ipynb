{
 "cells": [
  {
   "cell_type": "markdown",
   "metadata": {},
   "source": [
    "# CUDA-9.1 and CuDNN-7.1 Installation Instructions"
   ]
  },
  {
   "cell_type": "markdown",
   "metadata": {},
   "source": [
    "## System Requirements"
   ]
  },
  {
   "cell_type": "raw",
   "metadata": {},
   "source": [
    "UBUNTU 16.04\n",
    "Nvidia GPU installed\n",
    "GPU Drivers"
   ]
  },
  {
   "cell_type": "markdown",
   "metadata": {},
   "source": [
    "#### Downloading the CUDA Package from the Nvidia website - "
   ]
  },
  {
   "cell_type": "raw",
   "metadata": {},
   "source": [
    "https://developer.nvidia.com/cuda-downloads?target_os=Linux&target_arch=x86_64&target_distro=Ubuntu&target_version=1604&target_type=debnetwork\n",
    "\n",
    "The above website directs to the nvidia website to download CUDA package according to your system requirements."
   ]
  },
  {
   "cell_type": "markdown",
   "metadata": {},
   "source": [
    "#### Downloading CUDA Package using command terminal - "
   ]
  },
  {
   "cell_type": "raw",
   "metadata": {},
   "source": [
    "wget http://developer.download.nvidia.com/compute/cuda/repos/ubuntu1604/x86_64/cuda-repo-ubuntu1604_9.1.85-1_amd64.deb\n",
    "\n",
    "(For Ubuntu-16.4, x86-64)"
   ]
  },
  {
   "cell_type": "markdown",
   "metadata": {},
   "source": [
    "## Installation Steps"
   ]
  },
  {
   "cell_type": "raw",
   "metadata": {},
   "source": [
    "sudo apt-key adv --fetch-keys http://developer.download.nvidia.com/compute/cuda/repos/ubuntu1604/x86_64/7fa2af80.pub\n",
    "sudo dpkg -i --force-overwrite cuda-repo-ubuntu1604_9.1.85-1_amd64.deb"
   ]
  },
  {
   "cell_type": "markdown",
   "metadata": {},
   "source": [
    " Avoid using --force-overwrite in the above command if you want to keep multiple CUDA versions on your system"
   ]
  },
  {
   "cell_type": "raw",
   "metadata": {},
   "source": [
    "sudo apt-get update\n",
    "sudo apt-get install cuda"
   ]
  },
  {
   "cell_type": "markdown",
   "metadata": {},
   "source": [
    "#### Adding PATH variables to .bashrc file in your home folder"
   ]
  },
  {
   "cell_type": "raw",
   "metadata": {},
   "source": [
    "vim ~/.bashrc\n",
    "\n",
    "In the bashrc file : \n",
    "\n",
    "export CUDA_HOME=/usr/local/cuda-9.1\n",
    "export LD_LIBRARY_PATH=${CUDA_HOME}/lib64 \n",
    " \n",
    "PATH=${CUDA_HOME}/bin:${PATH} \n",
    "export PATH \n",
    "\n",
    "source ~/.bashrc"
   ]
  },
  {
   "cell_type": "markdown",
   "metadata": {},
   "source": [
    "### CuDNN 7.1 Installation"
   ]
  },
  {
   "cell_type": "markdown",
   "metadata": {},
   "source": [
    "#### Downloading the CuDNN Package from the Nvidia website -\n"
   ]
  },
  {
   "cell_type": "raw",
   "metadata": {},
   "source": [
    "https://developer.nvidia.com/rdp/cudnn-download"
   ]
  },
  {
   "cell_type": "markdown",
   "metadata": {},
   "source": [
    "For downloading from the above link, first register to the Nvidia developer page and fill some feedback and then it proceeds to the downloading.\n"
   ]
  },
  {
   "cell_type": "markdown",
   "metadata": {},
   "source": [
    "Different CuDNN versions are avialable for download on https://developer.nvidia.com/rdp/cudnn-archive.\n",
    "Currently, download cuDNN 7.1 for CUDA-9.1"
   ]
  },
  {
   "cell_type": "raw",
   "metadata": {},
   "source": [
    "CUDNN_TAR_FILE=\"cudnn-9.1-linux-x64-v7.tgz\"   \n",
    "\n",
    "# On unzipping the files will be unzipped in the folder cuda by default\n",
    "# Unzip the downloaded folder and then copy the two folders where CUDA was installed. \n",
    "\n",
    "tar -xzvf ${CUDNN_TAR_FILE}\n",
    "sudo cp -P cuda/include/cudnn.h /usr/local/cuda-9.1/include\n",
    "sudo cp -P cuda/lib64/libcudnn* /usr/local/cuda-9.1/lib64/\n",
    "sudo chmod a+r /usr/local/cuda-9.1/lib64/libcudnn*\n"
   ]
  },
  {
   "cell_type": "markdown",
   "metadata": {},
   "source": [
    "#### You have succesfully downloaded CUDA and CuDNN. "
   ]
  }
 ],
 "metadata": {
  "kernelspec": {
   "display_name": "Python 2",
   "language": "python",
   "name": "python2"
  },
  "language_info": {
   "codemirror_mode": {
    "name": "ipython",
    "version": 2
   },
   "file_extension": ".py",
   "mimetype": "text/x-python",
   "name": "python",
   "nbconvert_exporter": "python",
   "pygments_lexer": "ipython2",
   "version": "2.7.12"
  }
 },
 "nbformat": 4,
 "nbformat_minor": 2
}
